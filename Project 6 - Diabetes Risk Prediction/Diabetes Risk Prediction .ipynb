{
 "cells": [
  {
   "cell_type": "markdown",
   "id": "46d5195e",
   "metadata": {},
   "source": [
    "# Problem Statement\n",
    "Diabetes is one of the most frequent diseases worldwide and the number of diabetic patients is growing over the years. The main cause of diabetes remains unknown, yet scientists believe that both genetic factors and environmental lifestyle play a major role in diabetes.\n",
    "\n",
    "Individuals with diabetes face a risk of developing some secondary health issues such as heart diseases and nerve damage. Thus, early detection and treatment of diabetes can prevent complications and assist in reducing the risk of severe health problems. Even though it's incurable, it can be managed by treatment and medication.\n",
    "\n",
    "Researchers at the Bio-Solutions lab want to get a better understanding of this disease among women and are planning to use machine learning models that will help them to identify patients who are at risk of diabetes.\n",
    "\n",
    "You as a data scientist at Bio-Solutions have to build a classification model using a dataset collected by the \"National Institute of Diabetes and Digestive and Kidney Diseases\" consisting of several attributes that would help to identify whether a person is at risk of diabetes or not.\n",
    "\n",
    "# Objective:\n",
    "To build a model to predict whether an individual is at risk of diabetes or not.\n",
    "\n",
    "# Data Description:\n",
    "- Pregnancies: Number of times pregnant\n",
    "- Glucose: Plasma glucose concentration over 2 hours in an oral glucose tolerance test\n",
    "- BloodPressure: Diastolic blood pressure (mm Hg)\n",
    "- SkinThickness: Triceps skinfold thickness (mm)\n",
    "- Insulin: 2-Hour serum insulin (mu U/ml)\n",
    "- BMI: Body mass index (weight in kg/(height in m)^2)\n",
    "- Pedigree: Diabetes pedigree function - A function that scores likelihood of diabetes based on family history.\n",
    "- Age: Age in years\n",
    "- Class: Class variable (0: the person is not diabetic or 1: the person is diabetic)"
   ]
  },
  {
   "cell_type": "markdown",
   "id": "b25bca1d",
   "metadata": {},
   "source": [
    "# Libraries"
   ]
  },
  {
   "cell_type": "code",
   "execution_count": 1,
   "id": "44ba5110",
   "metadata": {},
   "outputs": [],
   "source": [
    "# Library to suppress warnings or deprecation notes \n",
    "import warnings\n",
    "warnings.filterwarnings('ignore')\n",
    "\n",
    "# Libraries to help with reading and manipulating data\n",
    "import numpy as np\n",
    "import pandas as pd\n",
    "\n",
    "# Libraries to help with data visualization\n",
    "import matplotlib.pyplot as plt\n",
    "%matplotlib inline\n",
    "import seaborn as sns\n",
    "\n",
    "# Library to split data \n",
    "from sklearn.model_selection import train_test_split\n",
    "\n",
    "# Libraries to import decision tree classifier and different ensemble classifiers\n",
    "from sklearn.ensemble import BaggingClassifier\n",
    "from sklearn.ensemble import RandomForestClassifier\n",
    "from sklearn.tree import DecisionTreeClassifier\n",
    "from sklearn import tree\n",
    "\n",
    "# Libtune to tune model, get different metric scores\n",
    "from sklearn import metrics\n",
    "from sklearn.metrics import confusion_matrix, classification_report, accuracy_score, precision_score, recall_score,f1_score,roc_auc_score\n",
    "from sklearn.model_selection import GridSearchCV"
   ]
  },
  {
   "cell_type": "markdown",
   "id": "df792ff9",
   "metadata": {},
   "source": [
    "# Load in Data "
   ]
  },
  {
   "cell_type": "code",
   "execution_count": 2,
   "id": "e0c7efd4",
   "metadata": {},
   "outputs": [],
   "source": [
    "pima=pd.read_csv(\"pima-indians-diabetes.csv\")"
   ]
  },
  {
   "cell_type": "code",
   "execution_count": 3,
   "id": "79c4898c",
   "metadata": {},
   "outputs": [],
   "source": [
    "# Make copy of data to keep original data \n",
    "data = pima.copy() "
   ]
  },
  {
   "cell_type": "markdown",
   "id": "e34dabec",
   "metadata": {},
   "source": [
    "# Initial Inspection of Data "
   ]
  },
  {
   "cell_type": "code",
   "execution_count": 4,
   "id": "4932a5c6",
   "metadata": {},
   "outputs": [
    {
     "data": {
      "text/html": [
       "<div>\n",
       "<style scoped>\n",
       "    .dataframe tbody tr th:only-of-type {\n",
       "        vertical-align: middle;\n",
       "    }\n",
       "\n",
       "    .dataframe tbody tr th {\n",
       "        vertical-align: top;\n",
       "    }\n",
       "\n",
       "    .dataframe thead th {\n",
       "        text-align: right;\n",
       "    }\n",
       "</style>\n",
       "<table border=\"1\" class=\"dataframe\">\n",
       "  <thead>\n",
       "    <tr style=\"text-align: right;\">\n",
       "      <th></th>\n",
       "      <th>Pregnancies</th>\n",
       "      <th>Glucose</th>\n",
       "      <th>BloodPressure</th>\n",
       "      <th>SkinThickness</th>\n",
       "      <th>Insulin</th>\n",
       "      <th>BMI</th>\n",
       "      <th>Pedigree</th>\n",
       "      <th>Age</th>\n",
       "      <th>Class</th>\n",
       "    </tr>\n",
       "  </thead>\n",
       "  <tbody>\n",
       "    <tr>\n",
       "      <th>0</th>\n",
       "      <td>6</td>\n",
       "      <td>148</td>\n",
       "      <td>72</td>\n",
       "      <td>35</td>\n",
       "      <td>0</td>\n",
       "      <td>33.6</td>\n",
       "      <td>0.627</td>\n",
       "      <td>50</td>\n",
       "      <td>1</td>\n",
       "    </tr>\n",
       "    <tr>\n",
       "      <th>1</th>\n",
       "      <td>1</td>\n",
       "      <td>85</td>\n",
       "      <td>66</td>\n",
       "      <td>29</td>\n",
       "      <td>0</td>\n",
       "      <td>26.6</td>\n",
       "      <td>0.351</td>\n",
       "      <td>31</td>\n",
       "      <td>0</td>\n",
       "    </tr>\n",
       "    <tr>\n",
       "      <th>2</th>\n",
       "      <td>8</td>\n",
       "      <td>183</td>\n",
       "      <td>64</td>\n",
       "      <td>0</td>\n",
       "      <td>0</td>\n",
       "      <td>23.3</td>\n",
       "      <td>0.672</td>\n",
       "      <td>32</td>\n",
       "      <td>1</td>\n",
       "    </tr>\n",
       "    <tr>\n",
       "      <th>3</th>\n",
       "      <td>1</td>\n",
       "      <td>89</td>\n",
       "      <td>66</td>\n",
       "      <td>23</td>\n",
       "      <td>94</td>\n",
       "      <td>28.1</td>\n",
       "      <td>0.167</td>\n",
       "      <td>21</td>\n",
       "      <td>0</td>\n",
       "    </tr>\n",
       "    <tr>\n",
       "      <th>4</th>\n",
       "      <td>0</td>\n",
       "      <td>137</td>\n",
       "      <td>40</td>\n",
       "      <td>35</td>\n",
       "      <td>168</td>\n",
       "      <td>43.1</td>\n",
       "      <td>2.288</td>\n",
       "      <td>33</td>\n",
       "      <td>1</td>\n",
       "    </tr>\n",
       "  </tbody>\n",
       "</table>\n",
       "</div>"
      ],
      "text/plain": [
       "   Pregnancies  Glucose  BloodPressure  SkinThickness  Insulin   BMI  \\\n",
       "0            6      148             72             35        0  33.6   \n",
       "1            1       85             66             29        0  26.6   \n",
       "2            8      183             64              0        0  23.3   \n",
       "3            1       89             66             23       94  28.1   \n",
       "4            0      137             40             35      168  43.1   \n",
       "\n",
       "   Pedigree  Age  Class  \n",
       "0     0.627   50      1  \n",
       "1     0.351   31      0  \n",
       "2     0.672   32      1  \n",
       "3     0.167   21      0  \n",
       "4     2.288   33      1  "
      ]
     },
     "execution_count": 4,
     "metadata": {},
     "output_type": "execute_result"
    }
   ],
   "source": [
    "# first few rows\n",
    "data.head() "
   ]
  },
  {
   "cell_type": "code",
   "execution_count": 5,
   "id": "c14263b9",
   "metadata": {},
   "outputs": [
    {
     "data": {
      "text/html": [
       "<div>\n",
       "<style scoped>\n",
       "    .dataframe tbody tr th:only-of-type {\n",
       "        vertical-align: middle;\n",
       "    }\n",
       "\n",
       "    .dataframe tbody tr th {\n",
       "        vertical-align: top;\n",
       "    }\n",
       "\n",
       "    .dataframe thead th {\n",
       "        text-align: right;\n",
       "    }\n",
       "</style>\n",
       "<table border=\"1\" class=\"dataframe\">\n",
       "  <thead>\n",
       "    <tr style=\"text-align: right;\">\n",
       "      <th></th>\n",
       "      <th>Pregnancies</th>\n",
       "      <th>Glucose</th>\n",
       "      <th>BloodPressure</th>\n",
       "      <th>SkinThickness</th>\n",
       "      <th>Insulin</th>\n",
       "      <th>BMI</th>\n",
       "      <th>Pedigree</th>\n",
       "      <th>Age</th>\n",
       "      <th>Class</th>\n",
       "    </tr>\n",
       "  </thead>\n",
       "  <tbody>\n",
       "    <tr>\n",
       "      <th>763</th>\n",
       "      <td>10</td>\n",
       "      <td>101</td>\n",
       "      <td>76</td>\n",
       "      <td>48</td>\n",
       "      <td>180</td>\n",
       "      <td>32.9</td>\n",
       "      <td>0.171</td>\n",
       "      <td>63</td>\n",
       "      <td>0</td>\n",
       "    </tr>\n",
       "    <tr>\n",
       "      <th>764</th>\n",
       "      <td>2</td>\n",
       "      <td>122</td>\n",
       "      <td>70</td>\n",
       "      <td>27</td>\n",
       "      <td>0</td>\n",
       "      <td>36.8</td>\n",
       "      <td>0.340</td>\n",
       "      <td>27</td>\n",
       "      <td>0</td>\n",
       "    </tr>\n",
       "    <tr>\n",
       "      <th>765</th>\n",
       "      <td>5</td>\n",
       "      <td>121</td>\n",
       "      <td>72</td>\n",
       "      <td>23</td>\n",
       "      <td>112</td>\n",
       "      <td>26.2</td>\n",
       "      <td>0.245</td>\n",
       "      <td>30</td>\n",
       "      <td>0</td>\n",
       "    </tr>\n",
       "    <tr>\n",
       "      <th>766</th>\n",
       "      <td>1</td>\n",
       "      <td>126</td>\n",
       "      <td>60</td>\n",
       "      <td>0</td>\n",
       "      <td>0</td>\n",
       "      <td>30.1</td>\n",
       "      <td>0.349</td>\n",
       "      <td>47</td>\n",
       "      <td>1</td>\n",
       "    </tr>\n",
       "    <tr>\n",
       "      <th>767</th>\n",
       "      <td>1</td>\n",
       "      <td>93</td>\n",
       "      <td>70</td>\n",
       "      <td>31</td>\n",
       "      <td>0</td>\n",
       "      <td>30.4</td>\n",
       "      <td>0.315</td>\n",
       "      <td>23</td>\n",
       "      <td>0</td>\n",
       "    </tr>\n",
       "  </tbody>\n",
       "</table>\n",
       "</div>"
      ],
      "text/plain": [
       "     Pregnancies  Glucose  BloodPressure  SkinThickness  Insulin   BMI  \\\n",
       "763           10      101             76             48      180  32.9   \n",
       "764            2      122             70             27        0  36.8   \n",
       "765            5      121             72             23      112  26.2   \n",
       "766            1      126             60              0        0  30.1   \n",
       "767            1       93             70             31        0  30.4   \n",
       "\n",
       "     Pedigree  Age  Class  \n",
       "763     0.171   63      0  \n",
       "764     0.340   27      0  \n",
       "765     0.245   30      0  \n",
       "766     0.349   47      1  \n",
       "767     0.315   23      0  "
      ]
     },
     "execution_count": 5,
     "metadata": {},
     "output_type": "execute_result"
    }
   ],
   "source": [
    "# Last few rows\n",
    "data.tail()"
   ]
  },
  {
   "cell_type": "markdown",
   "id": "b7f44941",
   "metadata": {},
   "source": [
    "# Understand the data "
   ]
  },
  {
   "cell_type": "code",
   "execution_count": 6,
   "id": "a87aa7ba",
   "metadata": {},
   "outputs": [
    {
     "data": {
      "text/plain": [
       "(768, 9)"
      ]
     },
     "execution_count": 6,
     "metadata": {},
     "output_type": "execute_result"
    }
   ],
   "source": [
    "# shape of dataset\n",
    "data.shape"
   ]
  },
  {
   "cell_type": "markdown",
   "id": "7d9cdbb8",
   "metadata": {},
   "source": [
    "There are 9 columns with 768 rows "
   ]
  },
  {
   "cell_type": "code",
   "execution_count": 7,
   "id": "bd28d4fb",
   "metadata": {},
   "outputs": [
    {
     "name": "stdout",
     "output_type": "stream",
     "text": [
      "<class 'pandas.core.frame.DataFrame'>\n",
      "RangeIndex: 768 entries, 0 to 767\n",
      "Data columns (total 9 columns):\n",
      " #   Column         Non-Null Count  Dtype  \n",
      "---  ------         --------------  -----  \n",
      " 0   Pregnancies    768 non-null    int64  \n",
      " 1   Glucose        768 non-null    int64  \n",
      " 2   BloodPressure  768 non-null    int64  \n",
      " 3   SkinThickness  768 non-null    int64  \n",
      " 4   Insulin        768 non-null    int64  \n",
      " 5   BMI            768 non-null    float64\n",
      " 6   Pedigree       768 non-null    float64\n",
      " 7   Age            768 non-null    int64  \n",
      " 8   Class          768 non-null    int64  \n",
      "dtypes: float64(2), int64(7)\n",
      "memory usage: 54.1 KB\n"
     ]
    }
   ],
   "source": [
    "# Dtypes\n",
    "data.info()"
   ]
  },
  {
   "cell_type": "markdown",
   "id": "4a165cdc",
   "metadata": {},
   "source": [
    "- Total 9 numeric columns (7, int64, 2 float64)\n",
    "- No missing values\n",
    "- Small dataset size \n"
   ]
  },
  {
   "cell_type": "code",
   "execution_count": 8,
   "id": "c80ec6cc",
   "metadata": {},
   "outputs": [
    {
     "data": {
      "text/html": [
       "<div>\n",
       "<style scoped>\n",
       "    .dataframe tbody tr th:only-of-type {\n",
       "        vertical-align: middle;\n",
       "    }\n",
       "\n",
       "    .dataframe tbody tr th {\n",
       "        vertical-align: top;\n",
       "    }\n",
       "\n",
       "    .dataframe thead th {\n",
       "        text-align: right;\n",
       "    }\n",
       "</style>\n",
       "<table border=\"1\" class=\"dataframe\">\n",
       "  <thead>\n",
       "    <tr style=\"text-align: right;\">\n",
       "      <th></th>\n",
       "      <th>count</th>\n",
       "      <th>mean</th>\n",
       "      <th>std</th>\n",
       "      <th>min</th>\n",
       "      <th>25%</th>\n",
       "      <th>50%</th>\n",
       "      <th>75%</th>\n",
       "      <th>max</th>\n",
       "    </tr>\n",
       "  </thead>\n",
       "  <tbody>\n",
       "    <tr>\n",
       "      <th>Pregnancies</th>\n",
       "      <td>768.0</td>\n",
       "      <td>3.845052</td>\n",
       "      <td>3.369578</td>\n",
       "      <td>0.000</td>\n",
       "      <td>1.00000</td>\n",
       "      <td>3.0000</td>\n",
       "      <td>6.00000</td>\n",
       "      <td>17.00</td>\n",
       "    </tr>\n",
       "    <tr>\n",
       "      <th>Glucose</th>\n",
       "      <td>768.0</td>\n",
       "      <td>120.894531</td>\n",
       "      <td>31.972618</td>\n",
       "      <td>0.000</td>\n",
       "      <td>99.00000</td>\n",
       "      <td>117.0000</td>\n",
       "      <td>140.25000</td>\n",
       "      <td>199.00</td>\n",
       "    </tr>\n",
       "    <tr>\n",
       "      <th>BloodPressure</th>\n",
       "      <td>768.0</td>\n",
       "      <td>69.105469</td>\n",
       "      <td>19.355807</td>\n",
       "      <td>0.000</td>\n",
       "      <td>62.00000</td>\n",
       "      <td>72.0000</td>\n",
       "      <td>80.00000</td>\n",
       "      <td>122.00</td>\n",
       "    </tr>\n",
       "    <tr>\n",
       "      <th>SkinThickness</th>\n",
       "      <td>768.0</td>\n",
       "      <td>20.536458</td>\n",
       "      <td>15.952218</td>\n",
       "      <td>0.000</td>\n",
       "      <td>0.00000</td>\n",
       "      <td>23.0000</td>\n",
       "      <td>32.00000</td>\n",
       "      <td>99.00</td>\n",
       "    </tr>\n",
       "    <tr>\n",
       "      <th>Insulin</th>\n",
       "      <td>768.0</td>\n",
       "      <td>79.799479</td>\n",
       "      <td>115.244002</td>\n",
       "      <td>0.000</td>\n",
       "      <td>0.00000</td>\n",
       "      <td>30.5000</td>\n",
       "      <td>127.25000</td>\n",
       "      <td>846.00</td>\n",
       "    </tr>\n",
       "    <tr>\n",
       "      <th>BMI</th>\n",
       "      <td>768.0</td>\n",
       "      <td>31.992578</td>\n",
       "      <td>7.884160</td>\n",
       "      <td>0.000</td>\n",
       "      <td>27.30000</td>\n",
       "      <td>32.0000</td>\n",
       "      <td>36.60000</td>\n",
       "      <td>67.10</td>\n",
       "    </tr>\n",
       "    <tr>\n",
       "      <th>Pedigree</th>\n",
       "      <td>768.0</td>\n",
       "      <td>0.471876</td>\n",
       "      <td>0.331329</td>\n",
       "      <td>0.078</td>\n",
       "      <td>0.24375</td>\n",
       "      <td>0.3725</td>\n",
       "      <td>0.62625</td>\n",
       "      <td>2.42</td>\n",
       "    </tr>\n",
       "    <tr>\n",
       "      <th>Age</th>\n",
       "      <td>768.0</td>\n",
       "      <td>33.240885</td>\n",
       "      <td>11.760232</td>\n",
       "      <td>21.000</td>\n",
       "      <td>24.00000</td>\n",
       "      <td>29.0000</td>\n",
       "      <td>41.00000</td>\n",
       "      <td>81.00</td>\n",
       "    </tr>\n",
       "    <tr>\n",
       "      <th>Class</th>\n",
       "      <td>768.0</td>\n",
       "      <td>0.348958</td>\n",
       "      <td>0.476951</td>\n",
       "      <td>0.000</td>\n",
       "      <td>0.00000</td>\n",
       "      <td>0.0000</td>\n",
       "      <td>1.00000</td>\n",
       "      <td>1.00</td>\n",
       "    </tr>\n",
       "  </tbody>\n",
       "</table>\n",
       "</div>"
      ],
      "text/plain": [
       "               count        mean         std     min       25%       50%  \\\n",
       "Pregnancies    768.0    3.845052    3.369578   0.000   1.00000    3.0000   \n",
       "Glucose        768.0  120.894531   31.972618   0.000  99.00000  117.0000   \n",
       "BloodPressure  768.0   69.105469   19.355807   0.000  62.00000   72.0000   \n",
       "SkinThickness  768.0   20.536458   15.952218   0.000   0.00000   23.0000   \n",
       "Insulin        768.0   79.799479  115.244002   0.000   0.00000   30.5000   \n",
       "BMI            768.0   31.992578    7.884160   0.000  27.30000   32.0000   \n",
       "Pedigree       768.0    0.471876    0.331329   0.078   0.24375    0.3725   \n",
       "Age            768.0   33.240885   11.760232  21.000  24.00000   29.0000   \n",
       "Class          768.0    0.348958    0.476951   0.000   0.00000    0.0000   \n",
       "\n",
       "                     75%     max  \n",
       "Pregnancies      6.00000   17.00  \n",
       "Glucose        140.25000  199.00  \n",
       "BloodPressure   80.00000  122.00  \n",
       "SkinThickness   32.00000   99.00  \n",
       "Insulin        127.25000  846.00  \n",
       "BMI             36.60000   67.10  \n",
       "Pedigree         0.62625    2.42  \n",
       "Age             41.00000   81.00  \n",
       "Class            1.00000    1.00  "
      ]
     },
     "execution_count": 8,
     "metadata": {},
     "output_type": "execute_result"
    }
   ],
   "source": [
    "data.describe().T"
   ]
  },
  {
   "cell_type": "markdown",
   "id": "8a7f0218",
   "metadata": {},
   "source": [
    "# Insight \n",
    "Overall \n",
    "    - No missing values\n",
    "\n",
    "Pregnancy \n",
    "   - Average women have 4 pregnancies \n",
    "   - Max is 17 which will be further analysis \n",
    "\n",
    "Glucose \n",
    "   - mean with 120\n",
    "   - std of 31\n",
    "   - max is 199 \n",
    "   -  min is 0 will be futher analysis\n",
    " \n",
    "BloodPressure \n",
    "   - Mean is 69 \n",
    "   - std of 19 \n",
    "   - max is 122\n",
    "   - min is 0 will be futher analysis\n",
    "   \n",
    "SkinThickness\n",
    "   - Mean is 20 \n",
    "   - std of 15\n",
    "   - Max is 99\n",
    "   - min and 25% input is 0 needs further analysis\\\n",
    "   \n",
    "Insulin \n",
    "   - mean is 79 \n",
    "   - std of 115\n",
    "   - max is 846 needs to be analyzed  \n",
    "   - min and 25% input is 0 needs further analysis \n",
    "   \n",
    "Age\n",
    "   - Mean age is 33\n",
    "   - std of 11\n",
    "   - Max age is 81, min of 21 \n",
    "   \n",
    "   \n"
   ]
  },
  {
   "cell_type": "code",
   "execution_count": 9,
   "id": "1c88c34d",
   "metadata": {},
   "outputs": [
    {
     "data": {
      "text/plain": [
       "0"
      ]
     },
     "execution_count": 9,
     "metadata": {},
     "output_type": "execute_result"
    }
   ],
   "source": [
    "data.duplicated().sum()"
   ]
  },
  {
   "cell_type": "markdown",
   "id": "0d12ccc8",
   "metadata": {},
   "source": [
    "-------------------------------------------------------------------------------"
   ]
  },
  {
   "cell_type": "markdown",
   "id": "21f21ba5",
   "metadata": {},
   "source": [
    "# EDA \n",
    "\n",
    "Order of univariate analysis \n",
    "\n",
    "- Pregnancies      \n",
    "- Glucose         \n",
    "- BloodPressure   \n",
    "- SkinThickness    \n",
    "- Insulin         \n",
    "- BMI            \n",
    "- Pedigree       \n",
    "- Age            \n",
    "- Class       "
   ]
  },
  {
   "cell_type": "markdown",
   "id": "56e9de21",
   "metadata": {},
   "source": [
    "## Functions for EDA"
   ]
  },
  {
   "cell_type": "code",
   "execution_count": 10,
   "id": "e7f60896",
   "metadata": {},
   "outputs": [],
   "source": [
    "# function to plot a boxplot and a histogram along the same scale.\n",
    "\n",
    "\n",
    "def histogram_boxplot(data, feature, figsize=(12, 7), kde=False, bins=None):\n",
    "    \"\"\"\n",
    "    Boxplot and histogram combined\n",
    "\n",
    "    data: dataframe\n",
    "    feature: dataframe column\n",
    "    figsize: size of figure (default (12,7))\n",
    "    kde: whether to show the density curve (default False)\n",
    "    bins: number of bins for histogram (default None)\n",
    "    \"\"\"\n",
    "    f2, (ax_box2, ax_hist2) = plt.subplots(\n",
    "        nrows=2,  # Number of rows of the subplot grid= 2\n",
    "        sharex=True,  # x-axis will be shared among all subplots\n",
    "        gridspec_kw={\"height_ratios\": (0.25, 0.75)},\n",
    "        figsize=figsize,\n",
    "    )  # creating the 2 subplots\n",
    "    sns.boxplot(\n",
    "        data=data, x=feature, ax=ax_box2, showmeans=True, color=\"violet\"\n",
    "    )  # boxplot will be created and a star will indicate the mean value of the column\n",
    "    sns.histplot(\n",
    "        data=data, x=feature, kde=kde, ax=ax_hist2, bins=bins, palette=\"winter\"\n",
    "    ) if bins else sns.histplot(\n",
    "        data=data, x=feature, kde=kde, ax=ax_hist2\n",
    "    )  # For histogram\n",
    "    ax_hist2.axvline(\n",
    "        data[feature].mean(), color=\"green\", linestyle=\"--\"\n",
    "    )  # Add mean to the histogram\n",
    "    ax_hist2.axvline(\n",
    "        data[feature].median(), color=\"black\", linestyle=\"-\"\n",
    "    )  # Add median to the histogram"
   ]
  },
  {
   "cell_type": "markdown",
   "id": "4b397a5e",
   "metadata": {},
   "source": [
    "--------------------------------------------------------------------------------"
   ]
  },
  {
   "cell_type": "markdown",
   "id": "82569af9",
   "metadata": {},
   "source": [
    "# Observation on pregnancy"
   ]
  },
  {
   "cell_type": "code",
   "execution_count": 11,
   "id": "2cd975d9",
   "metadata": {},
   "outputs": [
    {
     "data": {
      "image/png": "[encoded data removed]",
      "text/plain": [
       "<Figure size 1200x700 with 2 Axes>"
      ]
     },
     "metadata": {},
     "output_type": "display_data"
    }
   ],
   "source": [
    "# Observation on pregnancy \n",
    "histogram_boxplot(data, \"Pregnancies\")"
   ]
  },
  {
   "cell_type": "markdown",
   "id": "91ee689a",
   "metadata": {},
   "source": [
    "### Insight\n",
    "\n",
    "- Right-skewed \n",
    "- Few outliers on upper right side (needs further analysis)\n",
    "- Majority have less than 3 pregnancies\n",
    "- Higher the pregnancies the fewer the count  "
   ]
  },
  {
   "cell_type": "markdown",
   "id": "6c193a24",
   "metadata": {},
   "source": [
    "# Observation on Glucose "
   ]
  },
  {
   "cell_type": "code",
   "execution_count": 12,
   "id": "4dc9fcee",
   "metadata": {},
   "outputs": [
    {
     "data": {
      "image/png": "[encoded data removed]",
      "text/plain": [
       "<Figure size 1200x700 with 2 Axes>"
      ]
     },
     "metadata": {},
     "output_type": "display_data"
    }
   ],
   "source": [
    "# Observation on Glucose\n",
    "histogram_boxplot(data, 'Glucose')"
   ]
  },
  {
   "cell_type": "markdown",
   "id": "3490ea58",
   "metadata": {},
   "source": [
    "### Insight\n",
    "- Fairly normal distribution \n",
    "- Boxplot shows there is a 0 value, needs further analysis \n",
    "- 75% is equal to 140, meaning 75% of woman have less than 140 units of plama glucose concentration \n",
    "- Max is near 200\n",
    "- 10 to 40 shows no counts "
   ]
  },
  {
   "cell_type": "markdown",
   "id": "5be89e46",
   "metadata": {},
   "source": [
    "### Observation on Blood Pressure"
   ]
  },
  {
   "cell_type": "code",
   "execution_count": 13,
   "id": "1c10f1ae",
   "metadata": {},
   "outputs": [
    {
     "data": {
      "image/png": "[encoded data removed]",
      "text/plain": [
       "<Figure size 1200x700 with 2 Axes>"
      ]
     },
     "metadata": {},
     "output_type": "display_data"
    }
   ],
   "source": [
    "# Observation on Blood pressure \n",
    "histogram_boxplot(data,\"BloodPressure\")"
   ]
  },
  {
   "cell_type": "markdown",
   "id": "3535943b",
   "metadata": {},
   "source": [
    "# Insight \n",
    "- Fairly normal distribution except for a few outliers, most women have normal blood pressure within in this dataset  \n",
    "- 0 values present needs further analysis \n",
    "- 75% of woman have less than 80 mmHg of blood pressure \n",
    "- Higher end of blood pressure is over 120"
   ]
  },
  {
   "cell_type": "code",
   "execution_count": 15,
   "id": "54dd0fd2",
   "metadata": {},
   "outputs": [
    {
     "data": {
      "image/png": "[encoded data removed]",
      "text/plain": [
       "<Figure size 1200x700 with 2 Axes>"
      ]
     },
     "metadata": {},
     "output_type": "display_data"
    }
   ],
   "source": [
    "### Observation on Skin thickness\n",
    "histogram_boxplot(data,\"SkinThickness\")"
   ]
  },
  {
   "cell_type": "markdown",
   "id": "bc36fcec",
   "metadata": {},
   "source": [
    "# Insight \n",
    "- one outlier present on upper side \n",
    "- 75% of woman have skin thickness of 32 or less\n",
    "- 0 value present, needs further analysis "
   ]
  },
  {
   "cell_type": "code",
   "execution_count": 16,
   "id": "ba1db0da",
   "metadata": {},
   "outputs": [
    {
     "data": {
      "image/png": "[encoded data removed]",
      "text/plain": [
       "<Figure size 1200x700 with 2 Axes>"
      ]
     },
     "metadata": {},
     "output_type": "display_data"
    }
   ],
   "source": [
    "histogram_boxplot(data,\"Insulin\")"
   ]
  },
  {
   "cell_type": "markdown",
   "id": "4efcd8a7",
   "metadata": {},
   "source": [
    "# Insight\n",
    "- Many outliers present on upper ride side\n",
    "- Many 0 values appear, needs further analysis \n",
    "- Right-skewed data \n",
    "- 75% of women have less than 127 mu U/ml of insulin concentration\n",
    "- Max is over 800 "
   ]
  },
  {
   "cell_type": "code",
   "execution_count": null,
   "id": "0d77578a",
   "metadata": {},
   "outputs": [],
   "source": []
  },
  {
   "cell_type": "code",
   "execution_count": null,
   "id": "321f1020",
   "metadata": {},
   "outputs": [],
   "source": []
  },
  {
   "cell_type": "code",
   "execution_count": null,
   "id": "15dfb65f",
   "metadata": {},
   "outputs": [],
   "source": []
  },
  {
   "cell_type": "code",
   "execution_count": null,
   "id": "39c1ef7e",
   "metadata": {},
   "outputs": [],
   "source": []
  }
 ],
 "metadata": {
  "kernelspec": {
   "display_name": "Python 3 (ipykernel)",
   "language": "python",
   "name": "python3"
  },
  "language_info": {
   "codemirror_mode": {
    "name": "ipython",
    "version": 3
   },
   "file_extension": ".py",
   "mimetype": "text/x-python",
   "name": "python",
   "nbconvert_exporter": "python",
   "pygments_lexer": "ipython3",
   "version": "3.11.4"
  }
 },
 "nbformat": 4,
 "nbformat_minor": 5
}
